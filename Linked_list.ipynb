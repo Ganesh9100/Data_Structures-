{
  "nbformat": 4,
  "nbformat_minor": 0,
  "metadata": {
    "colab": {
      "name": "Linked_list.ipynb",
      "provenance": [],
      "authorship_tag": "ABX9TyOxlQ8bOwUkVeMl2YHDIBZp",
      "include_colab_link": true
    },
    "kernelspec": {
      "name": "python3",
      "display_name": "Python 3"
    }
  },
  "cells": [
    {
      "cell_type": "markdown",
      "metadata": {
        "id": "view-in-github",
        "colab_type": "text"
      },
      "source": [
        "<a href=\"https://colab.research.google.com/github/Ganesh9100/Data_Structures-/blob/master/Linked_list.ipynb\" target=\"_parent\"><img src=\"https://colab.research.google.com/assets/colab-badge.svg\" alt=\"Open In Colab\"/></a>"
      ]
    },
    {
      "cell_type": "code",
      "metadata": {
        "id": "PpSHpkuBoLNT",
        "colab_type": "code",
        "colab": {
          "base_uri": "https://localhost:8080/",
          "height": 102
        },
        "outputId": "43079e70-8184-4ae1-cb92-5b7a77d096fe"
      },
      "source": [
        "def printMaxActivities(s , f ): \n",
        "    n = len(f) \n",
        "    print(\"The following activities are selected\")\n",
        "    # The first activity is always selected \n",
        "    i = 0\n",
        "    print(i) \n",
        "  \n",
        "    # Consider rest of the activities \n",
        "    for j in range(n):\n",
        "        if s[j] >= f[i]: \n",
        "            print(j)\n",
        "            i = j \n",
        "\n",
        "s = [1 , 3 , 0 , 5 , 8 , 5] \n",
        "f = [2 , 4 , 6 , 7 , 9 , 9] \n",
        "printMaxActivities(s , f) "
      ],
      "execution_count": 5,
      "outputs": [
        {
          "output_type": "stream",
          "text": [
            "The following activities are selected\n",
            "0\n",
            "1\n",
            "3\n",
            "4\n"
          ],
          "name": "stdout"
        }
      ]
    },
    {
      "cell_type": "code",
      "metadata": {
        "id": "wovGIK2HPTDJ",
        "colab_type": "code",
        "colab": {}
      },
      "source": [
        ""
      ],
      "execution_count": null,
      "outputs": []
    },
    {
      "cell_type": "code",
      "metadata": {
        "id": "gfHc7LAwPTIL",
        "colab_type": "code",
        "colab": {}
      },
      "source": [
        "class Node:\n",
        "  def __init__(self,data):\n",
        "    self.data=data\n",
        "    self.next=None\n",
        "\n",
        "\n",
        "\n",
        "class Linked_list:\n",
        "  def __init__(self):\n",
        "    self.head=None\n",
        "\n",
        "\n",
        "  def push(self,new_data):\n",
        "    new_data = Node(new_data)\n",
        "    new_data.next=self.head\n",
        "    self.head=new_data\n",
        "    \n",
        "  def search(self, x):\n",
        "    current = self.head\n",
        "    while current != None:\n",
        "      if current.data == x:\n",
        "        return True # data found \n",
        "      current = current.next\n",
        "    return False # Data Not found \n"
      ],
      "execution_count": 44,
      "outputs": []
    },
    {
      "cell_type": "code",
      "metadata": {
        "id": "bJ-mU5zAPTMj",
        "colab_type": "code",
        "colab": {}
      },
      "source": [
        "llist = Linked_list() \n",
        "\n",
        "\n"
      ],
      "execution_count": 45,
      "outputs": []
    },
    {
      "cell_type": "code",
      "metadata": {
        "id": "P70yqU7zRNfO",
        "colab_type": "code",
        "colab": {}
      },
      "source": [
        "llist.push(10)\n",
        "llist.push(30)\n",
        "llist.push(11)\n",
        "llist.push(21)\n",
        "llist.push(14)\n",
        "\n"
      ],
      "execution_count": 46,
      "outputs": []
    },
    {
      "cell_type": "code",
      "metadata": {
        "id": "Tz5_xRrkXGMi",
        "colab_type": "code",
        "colab": {
          "base_uri": "https://localhost:8080/",
          "height": 34
        },
        "outputId": "edf7ac3b-ccf5-4662-bb73-1ae6de14950d"
      },
      "source": [
        "if llist.search(21): \n",
        "\tprint(\"Yes\") \n",
        "else: \n",
        "\tprint(\"No\") "
      ],
      "execution_count": 47,
      "outputs": [
        {
          "output_type": "stream",
          "text": [
            "Yes\n"
          ],
          "name": "stdout"
        }
      ]
    },
    {
      "cell_type": "code",
      "metadata": {
        "id": "QTW_73jIXtc_",
        "colab_type": "code",
        "colab": {}
      },
      "source": [
        ""
      ],
      "execution_count": null,
      "outputs": []
    }
  ]
}