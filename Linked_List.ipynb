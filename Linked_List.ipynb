{
  "nbformat": 4,
  "nbformat_minor": 0,
  "metadata": {
    "colab": {
      "name": "Linked_list.ipynb",
      "provenance": [],
      "authorship_tag": "ABX9TyPXR/QyM3SLaKYYBiXVNR0S",
      "include_colab_link": true
    },
    "kernelspec": {
      "name": "python3",
      "display_name": "Python 3"
    }
  },
  "cells": [
    {
      "cell_type": "markdown",
      "metadata": {
        "id": "view-in-github",
        "colab_type": "text"
      },
      "source": [
        "<a href=\"https://colab.research.google.com/github/Ganesh9100/Data_Structures-/blob/master/Linked_List.ipynb\" target=\"_parent\"><img src=\"https://colab.research.google.com/assets/colab-badge.svg\" alt=\"Open In Colab\"/></a>"
      ]
    },
    {
      "cell_type": "code",
      "metadata": {
        "id": "PpSHpkuBoLNT",
        "colab_type": "code",
        "colab": {
          "base_uri": "https://localhost:8080/",
          "height": 102
        },
        "outputId": "43079e70-8184-4ae1-cb92-5b7a77d096fe"
      },
      "source": [
        "def printMaxActivities(s , f ): \n",
        "    n = len(f) \n",
        "    print(\"The following activities are selected\")\n",
        "    # The first activity is always selected \n",
        "    i = 0\n",
        "    print(i) \n",
        "  \n",
        "    # Consider rest of the activities \n",
        "    for j in range(n):\n",
        "        if s[j] >= f[i]: \n",
        "            print(j)\n",
        "            i = j \n",
        "\n",
        "s = [1 , 3 , 0 , 5 , 8 , 5] \n",
        "f = [2 , 4 , 6 , 7 , 9 , 9] \n",
        "printMaxActivities(s , f) "
      ],
      "execution_count": null,
      "outputs": [
        {
          "output_type": "stream",
          "text": [
            "The following activities are selected\n",
            "0\n",
            "1\n",
            "3\n",
            "4\n"
          ],
          "name": "stdout"
        }
      ]
    },
    {
      "cell_type": "code",
      "metadata": {
        "id": "wovGIK2HPTDJ",
        "colab_type": "code",
        "colab": {}
      },
      "source": [
        ""
      ],
      "execution_count": null,
      "outputs": []
    },
    {
      "cell_type": "code",
      "metadata": {
        "id": "gfHc7LAwPTIL",
        "colab_type": "code",
        "colab": {}
      },
      "source": [
        "class Node:\n",
        "  def __init__(self,data):\n",
        "    self.data=data\n",
        "    self.next=None\n",
        "\n",
        "\n",
        "\n",
        "class Linked_list:\n",
        "  def __init__(self):\n",
        "    self.head=None\n",
        "\n",
        "\n",
        "  def push_begining(self,new_data):\n",
        "    new_data = Node(new_data)\n",
        "    new_data.next=self.head\n",
        "    self.head=new_data\n",
        "    \n",
        "  def push_end(self,new_data):\n",
        "    new_data=Node(new_data)\n",
        "    \n",
        "    if self.head is None:\n",
        "      self.head=new_data\n",
        "      return \n",
        "\n",
        "    last = self.head \n",
        "    while (last.next):\n",
        "      last = last.next\n",
        "    last.next =  new_data\n",
        "\n",
        "\n",
        "  def push_in(self,prev_node,new_data):\n",
        "    new_data=Node(new_data)\n",
        "    if prev_node is None:\n",
        "      prev_node.next=new_data\n",
        "      return \n",
        "    new_data.next=prev_node.next\n",
        "    prev_node.next=new_data\n",
        "\n",
        "    \n",
        "\n",
        "\n",
        "\n",
        "  def search(self, x):\n",
        "    current = self.head\n",
        "    while current != None:\n",
        "      if current.data == x:\n",
        "        return True # data found \n",
        "      current = current.next\n",
        "    return False # Data Not found \n",
        "\n",
        "  def disp(self):\n",
        "    temp=self.head\n",
        "    while temp:\n",
        "      print(temp.data)\n",
        "      temp=temp.next\n"
      ],
      "execution_count": 122,
      "outputs": []
    },
    {
      "cell_type": "code",
      "metadata": {
        "id": "bJ-mU5zAPTMj",
        "colab_type": "code",
        "colab": {}
      },
      "source": [
        "llist = Linked_list() \n",
        "\n",
        "\n"
      ],
      "execution_count": 123,
      "outputs": []
    },
    {
      "cell_type": "code",
      "metadata": {
        "id": "P70yqU7zRNfO",
        "colab_type": "code",
        "colab": {}
      },
      "source": [
        "llist.push_begining(10)\n",
        "llist.push_begining(20)\n",
        "llist.push_begining(30)\n",
        "llist.push_begining(40)\n",
        "llist.push_begining(52)\n",
        "\n",
        "llist.push_end(1000)\n",
        "\n"
      ],
      "execution_count": 124,
      "outputs": []
    },
    {
      "cell_type": "code",
      "metadata": {
        "id": "88NpRUdoozhl",
        "colab_type": "code",
        "colab": {}
      },
      "source": [
        "llist.push_in(llist.head.next,0)"
      ],
      "execution_count": 125,
      "outputs": []
    },
    {
      "cell_type": "code",
      "metadata": {
        "id": "BQQ44j4apRkE",
        "colab_type": "code",
        "colab": {
          "base_uri": "https://localhost:8080/",
          "height": 136
        },
        "outputId": "713c5ac2-1c91-4070-b93d-bcfd04e7ea5f"
      },
      "source": [
        "llist.disp()"
      ],
      "execution_count": 127,
      "outputs": [
        {
          "output_type": "stream",
          "text": [
            "52\n",
            "40\n",
            "0\n",
            "30\n",
            "20\n",
            "10\n",
            "1000\n"
          ],
          "name": "stdout"
        }
      ]
    },
    {
      "cell_type": "code",
      "metadata": {
        "id": "Tz5_xRrkXGMi",
        "colab_type": "code",
        "colab": {
          "base_uri": "https://localhost:8080/",
          "height": 34
        },
        "outputId": "13e67559-6ef3-4e8a-93b2-664311ea342e"
      },
      "source": [
        "if llist.search(165489264): \n",
        "\tprint(\"Yes\") \n",
        "else: \n",
        "\tprint(\"No\") "
      ],
      "execution_count": 132,
      "outputs": [
        {
          "output_type": "stream",
          "text": [
            "No\n"
          ],
          "name": "stdout"
        }
      ]
    },
    {
      "cell_type": "code",
      "metadata": {
        "id": "SnOMKRZjalNG",
        "colab_type": "code",
        "colab": {}
      },
      "source": [
        ""
      ],
      "execution_count": null,
      "outputs": []
    },
    {
      "cell_type": "code",
      "metadata": {
        "id": "QTW_73jIXtc_",
        "colab_type": "code",
        "colab": {}
      },
      "source": [
        ""
      ],
      "execution_count": null,
      "outputs": []
    }
  ]
}