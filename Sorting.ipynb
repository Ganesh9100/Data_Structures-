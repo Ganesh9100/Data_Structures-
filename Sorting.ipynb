{
  "nbformat": 4,
  "nbformat_minor": 0,
  "metadata": {
    "colab": {
      "name": "Sorting.ipynb",
      "provenance": [],
      "authorship_tag": "ABX9TyMDcCOiUkbepDtjMw5xWXzV",
      "include_colab_link": true
    },
    "kernelspec": {
      "name": "python3",
      "display_name": "Python 3"
    }
  },
  "cells": [
    {
      "cell_type": "markdown",
      "metadata": {
        "id": "view-in-github",
        "colab_type": "text"
      },
      "source": [
        "<a href=\"https://colab.research.google.com/github/Ganesh9100/Data_Structures-/blob/master/Sorting.ipynb\" target=\"_parent\"><img src=\"https://colab.research.google.com/assets/colab-badge.svg\" alt=\"Open In Colab\"/></a>"
      ]
    },
    {
      "cell_type": "code",
      "metadata": {
        "id": "nhk0FMo81rut",
        "colab_type": "code",
        "colab": {}
      },
      "source": [
        "def bubble_sort(data,f=0):\n",
        "\n",
        "  def swap(i,j):\n",
        "    data[i],data[j]=data[j],data[i]\n",
        "  \n",
        "  def form(data,f):\n",
        "    if f==1:\n",
        "      data=list(reversed(data))\n",
        "      print(data)\n",
        "    else:\n",
        "      return data\n",
        "\n",
        "    \n",
        "  \n",
        "  x=-1\n",
        "  length_data=len(data)\n",
        "  swapped = True\n",
        "\n",
        "  while swapped:\n",
        "    swapped=False\n",
        "\n",
        "    x=x+1\n",
        "\n",
        "    for i in range(1,length_data - x):\n",
        "      if data[i-1] > data[i]:\n",
        "        swap(i-1,i)\n",
        "        swapped=True\n",
        "  return form(data,f)\n",
        "  \n",
        "  \n",
        "\n",
        "\n"
      ],
      "execution_count": 1,
      "outputs": []
    },
    {
      "cell_type": "code",
      "metadata": {
        "id": "YsxgIvpC20F8",
        "colab_type": "code",
        "colab": {
          "base_uri": "https://localhost:8080/",
          "height": 153
        },
        "outputId": "7df96ba8-bc95-43e3-91e3-86522af049c6"
      },
      "source": [
        "m=int(input(\"Enter the length of data\"))\n",
        "data=[]\n",
        "for i in range(m):\n",
        "  l=int(input(\"\"))\n",
        "  data.append(l)\n",
        "\n",
        "data=list(data)\n",
        "\n",
        "n=int(input(\"Enter 1 for descending order else enter 0 \"))\n",
        "bubble_sort(data,n)"
      ],
      "execution_count": 2,
      "outputs": [
        {
          "output_type": "stream",
          "text": [
            "Enter the length of data5\n",
            "-7\n",
            "5\n",
            "0\n",
            "8\n",
            "4\n",
            "Enter 1 for descending order else enter 0 0\n"
          ],
          "name": "stdout"
        },
        {
          "output_type": "execute_result",
          "data": {
            "text/plain": [
              "[-7, 0, 4, 5, 8]"
            ]
          },
          "metadata": {
            "tags": []
          },
          "execution_count": 2
        }
      ]
    },
    {
      "cell_type": "code",
      "metadata": {
        "id": "2aoe2iuZ9QVB",
        "colab_type": "code",
        "colab": {}
      },
      "source": [
        ""
      ],
      "execution_count": null,
      "outputs": []
    },
    {
      "cell_type": "code",
      "metadata": {
        "id": "qbxM07qJAFaM",
        "colab_type": "code",
        "colab": {}
      },
      "source": [
        ""
      ],
      "execution_count": null,
      "outputs": []
    },
    {
      "cell_type": "code",
      "metadata": {
        "id": "8vPO5XDWAFgp",
        "colab_type": "code",
        "colab": {}
      },
      "source": [
        ""
      ],
      "execution_count": null,
      "outputs": []
    },
    {
      "cell_type": "code",
      "metadata": {
        "id": "d5Bl9fm9Bwkk",
        "colab_type": "code",
        "colab": {}
      },
      "source": [
        ""
      ],
      "execution_count": null,
      "outputs": []
    }
  ]
}