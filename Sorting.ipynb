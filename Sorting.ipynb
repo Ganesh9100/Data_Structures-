{
  "nbformat": 4,
  "nbformat_minor": 0,
  "metadata": {
    "colab": {
      "name": "Sorting.ipynb",
      "provenance": [],
      "collapsed_sections": [],
      "authorship_tag": "ABX9TyNDhhIQ6D6vy+e1VQfpuG43",
      "include_colab_link": true
    },
    "kernelspec": {
      "name": "python3",
      "display_name": "Python 3"
    }
  },
  "cells": [
    {
      "cell_type": "markdown",
      "metadata": {
        "id": "view-in-github",
        "colab_type": "text"
      },
      "source": [
        "<a href=\"https://colab.research.google.com/github/Ganesh9100/Data_Structures-/blob/master/Sorting.ipynb\" target=\"_parent\"><img src=\"https://colab.research.google.com/assets/colab-badge.svg\" alt=\"Open In Colab\"/></a>"
      ]
    },
    {
      "cell_type": "code",
      "metadata": {
        "id": "nhk0FMo81rut",
        "colab_type": "code",
        "colab": {}
      },
      "source": [
        "def bubble_sort(data,f=0):\n",
        "\n",
        "  def swap(i,j):\n",
        "    data[i],data[j]=data[j],data[i]\n",
        "  \n",
        "  def form(data,f):\n",
        "    if f==1:\n",
        "      data=list(reversed(data))\n",
        "      print(data)\n",
        "    else:\n",
        "      return data\n",
        "\n",
        "    \n",
        "  \n",
        "  x=-1\n",
        "  length_data=len(data)\n",
        "  swapped = True\n",
        "\n",
        "  while swapped:\n",
        "    swapped=False\n",
        "\n",
        "    x=x+1\n",
        "\n",
        "    for i in range(1,length_data - x):\n",
        "      if data[i-1] > data[i]:\n",
        "        swap(i-1,i)\n",
        "        swapped=True\n",
        "  return form(data,f)\n",
        "  \n",
        "  \n",
        "\n",
        "\n"
      ],
      "execution_count": 30,
      "outputs": []
    },
    {
      "cell_type": "code",
      "metadata": {
        "id": "YsxgIvpC20F8",
        "colab_type": "code",
        "colab": {
          "base_uri": "https://localhost:8080/",
          "height": 153
        },
        "outputId": "f59201b7-6728-4931-f5fc-2fb413b1f60a"
      },
      "source": [
        "m=int(input(\"Enter the length of data\"))\n",
        "data=[]\n",
        "for i in range(m):\n",
        "  l=int(input(\"\"))\n",
        "  data.append(l)\n",
        "\n",
        "data=list(data)\n",
        "\n",
        "n=int(input(\"Enter 1 for descending order else enter 0 \"))\n",
        "bubble_sort(data,n)"
      ],
      "execution_count": 31,
      "outputs": [
        {
          "output_type": "stream",
          "text": [
            "Enter the length of data5\n",
            "-7\n",
            "65\n",
            "0\n",
            "32\n",
            "-1\n",
            "Enter 1 for descending order else enter 0 0\n"
          ],
          "name": "stdout"
        },
        {
          "output_type": "execute_result",
          "data": {
            "text/plain": [
              "[-7, -1, 0, 32, 65]"
            ]
          },
          "metadata": {
            "tags": []
          },
          "execution_count": 31
        }
      ]
    },
    {
      "cell_type": "code",
      "metadata": {
        "id": "2aoe2iuZ9QVB",
        "colab_type": "code",
        "colab": {}
      },
      "source": [
        ""
      ],
      "execution_count": null,
      "outputs": []
    },
    {
      "cell_type": "code",
      "metadata": {
        "id": "qbxM07qJAFaM",
        "colab_type": "code",
        "colab": {}
      },
      "source": [
        ""
      ],
      "execution_count": null,
      "outputs": []
    },
    {
      "cell_type": "code",
      "metadata": {
        "id": "8vPO5XDWAFgp",
        "colab_type": "code",
        "colab": {}
      },
      "source": [
        "def binary_search(arr,item):    #### o( n log n )\n",
        "\n",
        "  first=0\n",
        "  last=len(arr) - 1\n",
        "  chk=True\n",
        "\n",
        "  while chk:\n",
        "    if item > arr[last] or item < arr[first]:\n",
        "      print(\"Not Found\")\n",
        "      chk = False\n",
        "\n",
        "    mid = ( first + last ) //  2\n",
        "\n",
        "    if arr[mid] == item:\n",
        "      chk = False \n",
        "      return print(\"Item Found at index \",mid)\n",
        "\n",
        "    elif item < arr[mid] :\n",
        "      \n",
        "      last = mid - 1 \n",
        "    \n",
        "    elif item > arr[mid] :\n",
        "\n",
        "      first = mid + 1\n",
        "\n",
        "    \n",
        "    \n",
        "  \n",
        "    \n",
        "    "
      ],
      "execution_count": 26,
      "outputs": []
    },
    {
      "cell_type": "code",
      "metadata": {
        "id": "l95YNOaq94wO",
        "colab_type": "code",
        "colab": {
          "base_uri": "https://localhost:8080/",
          "height": 34
        },
        "outputId": "e00ee069-ef61-40af-ed37-4eceb4ecaa47"
      },
      "source": [
        "\n",
        "\n",
        "arr=[-3,-1,0,10,20,30,40,50,60]\n",
        "item=30\n",
        "\n",
        "binary_search(arr,item)"
      ],
      "execution_count": 34,
      "outputs": [
        {
          "output_type": "stream",
          "text": [
            "Item Found at index  5\n"
          ],
          "name": "stdout"
        }
      ]
    },
    {
      "cell_type": "code",
      "metadata": {
        "id": "x-XPVssK-SnZ",
        "colab_type": "code",
        "colab": {}
      },
      "source": [
        ""
      ],
      "execution_count": null,
      "outputs": []
    }
  ]
}